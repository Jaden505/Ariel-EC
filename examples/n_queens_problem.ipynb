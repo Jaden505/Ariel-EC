{
 "cells": [
  {
   "cell_type": "markdown",
   "id": "045bddc6",
   "metadata": {},
   "source": [
    "## N-queens with Ariel\n",
    "This file demonstrates how to tackle the n-queens problem using Ariel. Solving for a board with n=8, n=16 and n=32 where n is the the board length and width and also the number of queens on the board. The goal is to achieve an average of zero attacking queens on all tested n values. This will demonstrate the power and usability of the Ariel library."
   ]
  },
  {
   "cell_type": "code",
   "execution_count": 1,
   "id": "f401c83c",
   "metadata": {},
   "outputs": [],
   "source": [
    "# Standard libraries\n",
    "import random\n",
    "import matplotlib.pyplot as plt\n",
    "from typing import cast\n",
    "import numpy as np\n",
    "\n",
    "# Local libraries\n",
    "from ariel.ec.a000 import IntegerMutator, IntegersGenerator\n",
    "from ariel.ec.a001 import Individual\n",
    "from ariel.ec.a005 import Crossover\n",
    "from ariel.ec.a004 import EASettings, EAStep, EA"
   ]
  },
  {
   "cell_type": "code",
   "execution_count": 2,
   "id": "37b4c928",
   "metadata": {},
   "outputs": [],
   "source": [
    "type Population = list[Individual]\n",
    "config = EASettings()"
   ]
  },
  {
   "cell_type": "code",
   "execution_count": 3,
   "id": "a906f220",
   "metadata": {},
   "outputs": [],
   "source": [
    "def visualize_solution(solution):\n",
    "    \"\"\"Visualize the placement of queens on the chessboard.\"\"\"\n",
    "    n = len(solution)\n",
    "    for i in range(n):\n",
    "        e = '. '\n",
    "        row_str = e * (solution[i]) + 'Q ' + e * ((n-1) - solution[i])\n",
    "        print(row_str)\n",
    "        \n",
    "def count_attacking_queens(solution: list[int]) -> int:\n",
    "    \"\"\"Counts the number of attacking queens on diagonals.\"\"\"\n",
    "    fitness = 0\n",
    "    main_diags, anti_diags = [], []\n",
    "    \n",
    "    for row, col in enumerate(solution):\n",
    "       if row - col in main_diags:\n",
    "          fitness += main_diags.count(row - col)\n",
    "       if row + col in anti_diags:\n",
    "          fitness += anti_diags.count(row + col)\n",
    "      \n",
    "       main_diags.append(row - col)\n",
    "       anti_diags.append(row + col)       \n",
    "\n",
    "    return fitness\n"
   ]
  },
  {
   "cell_type": "code",
   "execution_count": 4,
   "id": "ebdea970",
   "metadata": {},
   "outputs": [],
   "source": [
    "def parent_selection(population: Population, k=2) -> Population:\n",
    "    \"\"\"Tournament selection of size k\"\"\"\n",
    "    random.shuffle(population)\n",
    "    for idx in range(1, len(population) - 1, k):\n",
    "        ind_i = population[idx]\n",
    "        ind_j = population[idx - 1]\n",
    "\n",
    "        # Compare fitness values\n",
    "        if ind_i.fitness < ind_j.fitness and not config.is_maximisation:\n",
    "            ind_i.tags = {\"ps\": True}\n",
    "            ind_j.tags = {\"ps\": False}\n",
    "        else:\n",
    "            ind_i.tags = {\"ps\": False}\n",
    "            ind_j.tags = {\"ps\": True}\n",
    "            \n",
    "    return population\n",
    "\n",
    "\n",
    "def crossover(population: Population) -> Population:\n",
    "    \"\"\"One-point crossover\"\"\"\n",
    "    parents = [ind for ind in population if ind.tags.get(\"ps\", False)] \n",
    "    for idx in range(1, len(parents), 2):\n",
    "        parent_i = parents[idx - 1]\n",
    "        parent_j = parents[idx]\n",
    "        genotype_i, genotype_j = Crossover.order_cross(\n",
    "            cast(\"list[int]\", parent_i.genotype),\n",
    "            cast(\"list[int]\", parent_j.genotype),\n",
    "        )\n",
    "\n",
    "        # First child\n",
    "        child_i = Individual()\n",
    "        child_i.genotype = genotype_i\n",
    "        child_i.tags = {\"mut\": True}\n",
    "        child_i.requires_eval = True\n",
    "\n",
    "        # Second child\n",
    "        child_j = Individual()\n",
    "        child_j.genotype = genotype_j\n",
    "        child_j.tags = {\"mut\": True}\n",
    "        child_j.requires_eval = True\n",
    "\n",
    "        population.extend([child_i, child_j])\n",
    "        \n",
    "    return population\n",
    "\n",
    "\n",
    "def mutation(population: Population) -> Population:\n",
    "    \"\"\"Swap mutation\"\"\"\n",
    "    for ind in population:\n",
    "        if ind.tags.get(\"mut\", False):\n",
    "            genes = cast(\"list[int]\", ind.genotype)\n",
    "            mutated = IntegerMutator.integer_swap(\n",
    "                individual=genes,\n",
    "                mutation_probability=0.1,\n",
    "                swaps=1,\n",
    "            )\n",
    "            ind.genotype = mutated\n",
    "\n",
    "    return population\n",
    "\n",
    "def evaluate(population: Population) -> Population:\n",
    "    \"\"\"Evaluate individuals that require evaluation\"\"\"\n",
    "    for ind in population:\n",
    "        if ind.requires_eval:\n",
    "            ind.fitness = count_attacking_queens(ind.genotype) \n",
    "            ind.requires_eval = False\n",
    "\n",
    "    return population\n",
    "\n",
    "def survivor_selection(population: Population) -> Population:\n",
    "    \"\"\"Tournament selection of size 2\"\"\"\n",
    "    random.shuffle(population)\n",
    "    current_pop_size = len(population)\n",
    "    for idx in range(1, len(population), 2):\n",
    "        ind_i = population[idx - 1]\n",
    "        ind_j = population[idx]\n",
    "\n",
    "        # Kill worse individual\n",
    "        if ind_i.fitness < ind_j.fitness and not config.is_maximisation:\n",
    "            ind_j.alive = False\n",
    "        else:\n",
    "            ind_i.alive = False\n",
    "\n",
    "        # Termination condition\n",
    "        current_pop_size -= 1\n",
    "        if current_pop_size <= config.target_population_size:\n",
    "            break\n",
    "\n",
    "    return population\n",
    "\n",
    "\n",
    "def create_individual(n) -> Individual:\n",
    "    ind = Individual()\n",
    "    ind.genotype = IntegersGenerator.integers(low=0, high=n-1, size=n, replace=False)\n",
    "    ind.tags = {\"ps\": False, \"mut\": False} # Initially not selected for anything\n",
    "    return ind\n",
    "\n",
    "\n",
    "def learning(population: Population) -> Population:\n",
    "    return population"
   ]
  },
  {
   "cell_type": "code",
   "execution_count": 5,
   "id": "0e32f164",
   "metadata": {},
   "outputs": [],
   "source": [
    "def solve_problem(n, quiet=False) -> None:\n",
    "    # Create initial population\n",
    "    population_list = [create_individual(n) for _ in range(config.target_population_size)]\n",
    "    population_list = evaluate(population_list)\n",
    "\n",
    "    # Create EA steps\n",
    "    ops = [\n",
    "        EAStep(\"evaluation\", evaluate),\n",
    "        EAStep(\"parent_selection\", parent_selection),\n",
    "        EAStep(\"crossover\", crossover),\n",
    "        EAStep(\"mutation\", mutation),\n",
    "        EAStep(\"evaluation\", evaluate),\n",
    "        EAStep(\"survivor_selection\", survivor_selection),\n",
    "        EAStep(\"learning\", learning),\n",
    "    ]\n",
    "\n",
    "    # Initialize EA\n",
    "    ea = EA(\n",
    "        population_list,\n",
    "        operations=ops,\n",
    "        num_of_generations=config.num_of_generations,\n",
    "        quiet=quiet,\n",
    "    )\n",
    "\n",
    "    ea.run()\n",
    "    \n",
    "    return ea.get_solution(only_alive=True)"
   ]
  },
  {
   "cell_type": "code",
   "execution_count": 13,
   "id": "099f9b77",
   "metadata": {},
   "outputs": [
    {
     "data": {
      "text/html": [
       "<pre style=\"white-space:pre;overflow-x:auto;line-height:normal;font-family:Menlo,'DejaVu Sans Mono',consolas,'Courier New',monospace\"><span style=\"color: #7fbfbf; text-decoration-color: #7fbfbf\">[20:17:53] </span><span style=\"color: #808000; text-decoration-color: #808000\">Database file exists at                                                                      </span> <a href=\"file:///Users/jadenvanrijswijk/Downloads/ariel-dev/src/ariel/ec/a004.py\" target=\"_blank\"><span style=\"color: #7f7f7f; text-decoration-color: #7f7f7f\">a004.py</span></a><span style=\"color: #7f7f7f; text-decoration-color: #7f7f7f\">:</span><a href=\"file:///Users/jadenvanrijswijk/Downloads/ariel-dev/src/ariel/ec/a004.py#99\" target=\"_blank\"><span style=\"color: #7f7f7f; text-decoration-color: #7f7f7f\">99</span></a>\n",
       "<span style=\"color: #7fbfbf; text-decoration-color: #7fbfbf\">           </span><span style=\"color: #800080; text-decoration-color: #800080\">/Users/jadenvanrijswijk/Downloads/ariel-dev/examples/__data__/</span><span style=\"color: #ff00ff; text-decoration-color: #ff00ff\">database.db</span><span style=\"color: #808000; text-decoration-color: #808000\">!                   </span> <span style=\"color: #7f7f7f; text-decoration-color: #7f7f7f\">          </span>\n",
       "<span style=\"color: #7fbfbf; text-decoration-color: #7fbfbf\">           </span><span style=\"color: #808000; text-decoration-color: #808000\">Behaviour is set to: </span><span style=\"color: #008000; text-decoration-color: #008000\">'delete'</span><span style=\"color: #808000; text-decoration-color: #808000\"> --&gt; ⚠️  Deleting file!                                          </span> <span style=\"color: #7f7f7f; text-decoration-color: #7f7f7f\">          </span>\n",
       "</pre>\n"
      ],
      "text/plain": [
       "\u001b[2;36m[20:17:53]\u001b[0m\u001b[2;36m \u001b[0m\u001b[33mDatabase file exists at                                                                      \u001b[0m \u001b]8;id=775327;file:///Users/jadenvanrijswijk/Downloads/ariel-dev/src/ariel/ec/a004.py\u001b\\\u001b[2ma004.py\u001b[0m\u001b]8;;\u001b\\\u001b[2m:\u001b[0m\u001b]8;id=35446;file:///Users/jadenvanrijswijk/Downloads/ariel-dev/src/ariel/ec/a004.py#99\u001b\\\u001b[2m99\u001b[0m\u001b]8;;\u001b\\\n",
       "\u001b[2;36m           \u001b[0m\u001b[35m/Users/jadenvanrijswijk/Downloads/ariel-dev/examples/__data__/\u001b[0m\u001b[95mdatabase.db\u001b[0m\u001b[33m!                   \u001b[0m \u001b[2m          \u001b[0m\n",
       "\u001b[2;36m           \u001b[0m\u001b[33mBehaviour is set to: \u001b[0m\u001b[32m'delete'\u001b[0m\u001b[33m --> ⚠️  Deleting file!                                          \u001b[0m \u001b[2m          \u001b[0m\n"
      ]
     },
     "metadata": {},
     "output_type": "display_data"
    },
    {
     "data": {
      "text/html": [
       "<pre style=\"white-space:pre;overflow-x:auto;line-height:normal;font-family:Menlo,'DejaVu Sans Mono',consolas,'Courier New',monospace\"><span style=\"color: #00ff00; text-decoration-color: #00ff00\">───────────────────────────────────────────────── </span><span style=\"color: #000080; text-decoration-color: #000080\">EA Initialised</span><span style=\"color: #00ff00; text-decoration-color: #00ff00\"> ──────────────────────────────────────────────────</span>\n",
       "</pre>\n"
      ],
      "text/plain": [
       "\u001b[92m───────────────────────────────────────────────── \u001b[0m\u001b[34mEA Initialised\u001b[0m\u001b[92m ──────────────────────────────────────────────────\u001b[0m\n"
      ]
     },
     "metadata": {},
     "output_type": "display_data"
    },
    {
     "data": {
      "application/vnd.jupyter.widget-view+json": {
       "model_id": "083af66ed421402a88219f428fdc445c",
       "version_major": 2,
       "version_minor": 0
      },
      "text/plain": [
       "Output()"
      ]
     },
     "metadata": {},
     "output_type": "display_data"
    },
    {
     "data": {
      "text/html": [
       "<pre style=\"white-space:pre;overflow-x:auto;line-height:normal;font-family:Menlo,'DejaVu Sans Mono',consolas,'Courier New',monospace\"></pre>\n"
      ],
      "text/plain": []
     },
     "metadata": {},
     "output_type": "display_data"
    },
    {
     "data": {
      "text/html": [
       "<pre style=\"white-space:pre;overflow-x:auto;line-height:normal;font-family:Menlo,'DejaVu Sans Mono',consolas,'Courier New',monospace\"><span style=\"color: #00ff00; text-decoration-color: #00ff00\">─────────────────────────────────────────────── </span><span style=\"color: #008000; text-decoration-color: #008000\">EA Finished Running</span><span style=\"color: #00ff00; text-decoration-color: #00ff00\"> ───────────────────────────────────────────────</span>\n",
       "</pre>\n"
      ],
      "text/plain": [
       "\u001b[92m─────────────────────────────────────────────── \u001b[0m\u001b[32mEA Finished Running\u001b[0m\u001b[92m ───────────────────────────────────────────────\u001b[0m\n"
      ]
     },
     "metadata": {},
     "output_type": "display_data"
    },
    {
     "name": "stdout",
     "output_type": "stream",
     "text": [
      "Best solution found:\n",
      ". . . . . . . . . . . . . . . . . . . . . . Q . . . . . . . . . \n",
      ". . . . . . . . . . Q . . . . . . . . . . . . . . . . . . . . . \n",
      ". . . . . . . . . . . . . . . . . . . . . . . . . . . . . Q . . \n",
      ". . . . . . . . . . . . . . . . Q . . . . . . . . . . . . . . . \n",
      ". . . . . . . . . . . Q . . . . . . . . . . . . . . . . . . . . \n",
      ". . . . . Q . . . . . . . . . . . . . . . . . . . . . . . . . . \n",
      ". . . . . . . . . . . . . . . . . . . . Q . . . . . . . . . . . \n",
      ". . . . . . . . . . . . . . . . . . . . . . . . . . . . . . . Q \n",
      ". . . . . . . . . . . . Q . . . . . . . . . . . . . . . . . . . \n",
      ". . . . . . . . . . . . . . . . . . . . . . . . . . . . . . Q . \n",
      ". . . . . . . . . . . . . . . . . . Q . . . . . . . . . . . . . \n",
      ". . . . . . . . . . . . . . . . . . . . . Q . . . . . . . . . . \n",
      ". . . . . . . . . . . . . . . . . Q . . . . . . . . . . . . . . \n",
      "Q . . . . . . . . . . . . . . . . . . . . . . . . . . . . . . . \n",
      ". . . Q . . . . . . . . . . . . . . . . . . . . . . . . . . . . \n",
      ". Q . . . . . . . . . . . . . . . . . . . . . . . . . . . . . . \n",
      ". . . . Q . . . . . . . . . . . . . . . . . . . . . . . . . . . \n",
      ". . . . . . . Q . . . . . . . . . . . . . . . . . . . . . . . . \n",
      ". . . . . . . . . . . . . . . . . . . . . . . . Q . . . . . . . \n",
      ". . Q . . . . . . . . . . . . . . . . . . . . . . . . . . . . . \n",
      ". . . . . . . . . . . . . Q . . . . . . . . . . . . . . . . . . \n",
      ". . . . . . Q . . . . . . . . . . . . . . . . . . . . . . . . . \n",
      ". . . . . . . . . . . . . . Q . . . . . . . . . . . . . . . . . \n",
      ". . . . . . . . . . . . . . . . . . . . . . . . . . Q . . . . . \n",
      ". . . . . . . . . . . . . . . . . . . . . . . Q . . . . . . . . \n",
      ". . . . . . . . . . . . . . . . . . . Q . . . . . . . . . . . . \n",
      ". . . . . . . . . . . . . . . . . . . . . . . . . . . . Q . . . \n",
      ". . . . . . . . . Q . . . . . . . . . . . . . . . . . . . . . . \n",
      ". . . . . . . . . . . . . . . . . . . . . . . . . Q . . . . . . \n",
      ". . . . . . . . Q . . . . . . . . . . . . . . . . . . . . . . . \n",
      ". . . . . . . . . . . . . . . Q . . . . . . . . . . . . . . . . \n",
      ". . . . . . . . . . . . . . . . . . . . . . . . . . . Q . . . . \n",
      "None\n",
      "With 3 attacking queens.\n",
      "3\n"
     ]
    }
   ],
   "source": [
    "config.is_maximisation = False  # We want to minimize the number of attacking queens\n",
    "config.target_population_size = 100\n",
    "config.num_of_generations = 100\n",
    "config.db_handling = \"delete\"\n",
    "\n",
    "solution = solve_problem(32)\n",
    "print(\"Best solution found:\")\n",
    "print(visualize_solution(solution.genotype))\n",
    "print(f\"With { int(solution.fitness) } attacking queens.\")\n",
    "print(count_attacking_queens(solution.genotype))"
   ]
  },
  {
   "cell_type": "code",
   "execution_count": 7,
   "id": "db6f4f39",
   "metadata": {},
   "outputs": [
    {
     "name": "stdout",
     "output_type": "stream",
     "text": [
      "alive=True time_of_birth=99 requires_eval=False id=4941 requires_init=False tags_={'mut': True, 'ps': True} time_of_death=100 fitness_=1.0 genotype_=[9, 12, 5, 2, 6, 1, 10, 4, 13, 15, 8, 11, 3, 7, 0, 14]\n"
     ]
    }
   ],
   "source": [
    "print(solution)"
   ]
  },
  {
   "cell_type": "code",
   "execution_count": 14,
   "id": "93b7d3de",
   "metadata": {},
   "outputs": [],
   "source": [
    "def calculate_mean_std(f_best):\n",
    "    \"\"\"This is a helper function to calculate the mean and standard deviation of the best fitness values.\"\"\"\n",
    "    f_best = np.array(f_best)\n",
    "    avg = np.mean(f_best, axis=0)\n",
    "    std = np.std(f_best, axis=0)\n",
    "    return avg, std\n",
    "\n",
    "def generate_subplot_function(\n",
    "    avgs_experiment_1,\n",
    "    stds_experiment_1,\n",
    "    labels,\n",
    "    avgs_experiment_2,\n",
    "    stds_experiment_2,\n",
    "    n_columns,\n",
    "    n_queens,\n",
    "):\n",
    "    \"\"\"This helper function generates subplots for the experiments.\"\"\"\n",
    "    fig, axes = plt.subplots(nrows=1, ncols=n_columns, figsize=(18, 6))\n",
    "\n",
    "    for i in range(len(avgs_experiment_1)):\n",
    "        if avgs_experiment_2 is not None:\n",
    "            # Plot data for subplot 1\n",
    "            axes[i].plot(avgs_experiment_2[i], label=\"Experiment 2\", color=\"green\")\n",
    "            axes[i].fill_between(\n",
    "                np.arange(len(avgs_experiment_2[i])),\n",
    "                avgs_experiment_2[i] - stds_experiment_2[i],\n",
    "                avgs_experiment_2[i] + stds_experiment_2[i],\n",
    "                alpha=0.2,\n",
    "                color=\"green\",\n",
    "            )\n",
    "            axes[i].set_ylim(bottom=0)\n",
    "\n",
    "            if n_queens:\n",
    "                axes[i].set_ylim(top=n_queens[i])\n",
    "\n",
    "        axes[i].plot(avgs_experiment_1[i], label=\"Experiment 1\", color=\"blue\")\n",
    "        axes[i].fill_between(\n",
    "            np.arange(len(avgs_experiment_1[i])),\n",
    "            avgs_experiment_1[i] - stds_experiment_1[i],\n",
    "            avgs_experiment_1[i] + stds_experiment_1[i],\n",
    "            alpha=0.2,\n",
    "            color=\"blue\",\n",
    "        )\n",
    "        axes[i].set_title(labels[i])\n",
    "        axes[i].set_ylim(bottom=0)\n",
    "        if n_queens:\n",
    "            axes[i].set_ylim(top=n_queens[i])\n",
    "\n",
    "    # Set common labels and title\n",
    "    for ax in axes:\n",
    "        ax.set_xlabel(\"Generations\")\n",
    "        ax.set_ylabel(\"Average Best Fitness\")\n",
    "        ax.legend()\n",
    "\n",
    "    plt.tight_layout()\n",
    "    \n",
    "\n",
    "def run_experiment_n_queens(runs):\n",
    "    \"\"\"Run the N-Queens experiment for different values of N.\"\"\"\n",
    "    fitness_8 = []\n",
    "    fitness_16 = []\n",
    "    fitness_32 = []\n",
    "\n",
    "    for run in range(runs):\n",
    "        print(\"Run: \", run+1)\n",
    "\n",
    "        # N = 8\n",
    "        solution = solve_problem(8, quiet=True)\n",
    "        fitness_8.append(solution.fitness)\n",
    "        visualize_solution(solution.genotype)\n",
    "        \n",
    "        # N = 16\n",
    "        solution = solve_problem(16, quiet=True)\n",
    "        fitness_16.append(solution.fitness)\n",
    "        \n",
    "        # N = 32\n",
    "        solution = solve_problem(32, quiet=True)\n",
    "        fitness_32.append(solution.fitness)\n",
    "        \n",
    "        visualize_solution(solution.genotype)\n",
    "\n",
    "    avg_8, std_8 = calculate_mean_std(fitness_8)\n",
    "    avg_16, std_16 = calculate_mean_std(fitness_16)\n",
    "    avg_32, std_32 = calculate_mean_std(fitness_32)\n",
    "\n",
    "    avgs = [avg_8, avg_16, avg_32]\n",
    "    stds = [std_8, std_16, std_32]\n",
    "    all_runs = [fitness_8, fitness_16, fitness_32]\n",
    "\n",
    "    return avgs, stds, all_runs"
   ]
  },
  {
   "cell_type": "code",
   "execution_count": null,
   "id": "64a888d9",
   "metadata": {},
   "outputs": [
    {
     "name": "stdout",
     "output_type": "stream",
     "text": [
      "Run:  1\n"
     ]
    },
    {
     "data": {
      "text/html": [
       "<pre style=\"white-space:pre;overflow-x:auto;line-height:normal;font-family:Menlo,'DejaVu Sans Mono',consolas,'Courier New',monospace\"><span style=\"color: #7fbfbf; text-decoration-color: #7fbfbf\">[20:18:11] </span><span style=\"color: #808000; text-decoration-color: #808000\">Database file exists at                                                                      </span> <a href=\"file:///Users/jadenvanrijswijk/Downloads/ariel-dev/src/ariel/ec/a004.py\" target=\"_blank\"><span style=\"color: #7f7f7f; text-decoration-color: #7f7f7f\">a004.py</span></a><span style=\"color: #7f7f7f; text-decoration-color: #7f7f7f\">:</span><a href=\"file:///Users/jadenvanrijswijk/Downloads/ariel-dev/src/ariel/ec/a004.py#99\" target=\"_blank\"><span style=\"color: #7f7f7f; text-decoration-color: #7f7f7f\">99</span></a>\n",
       "<span style=\"color: #7fbfbf; text-decoration-color: #7fbfbf\">           </span><span style=\"color: #800080; text-decoration-color: #800080\">/Users/jadenvanrijswijk/Downloads/ariel-dev/examples/__data__/</span><span style=\"color: #ff00ff; text-decoration-color: #ff00ff\">database.db</span><span style=\"color: #808000; text-decoration-color: #808000\">!                   </span> <span style=\"color: #7f7f7f; text-decoration-color: #7f7f7f\">          </span>\n",
       "<span style=\"color: #7fbfbf; text-decoration-color: #7fbfbf\">           </span><span style=\"color: #808000; text-decoration-color: #808000\">Behaviour is set to: </span><span style=\"color: #008000; text-decoration-color: #008000\">'delete'</span><span style=\"color: #808000; text-decoration-color: #808000\"> --&gt; ⚠️  Deleting file!                                          </span> <span style=\"color: #7f7f7f; text-decoration-color: #7f7f7f\">          </span>\n",
       "</pre>\n"
      ],
      "text/plain": [
       "\u001b[2;36m[20:18:11]\u001b[0m\u001b[2;36m \u001b[0m\u001b[33mDatabase file exists at                                                                      \u001b[0m \u001b]8;id=439499;file:///Users/jadenvanrijswijk/Downloads/ariel-dev/src/ariel/ec/a004.py\u001b\\\u001b[2ma004.py\u001b[0m\u001b]8;;\u001b\\\u001b[2m:\u001b[0m\u001b]8;id=726123;file:///Users/jadenvanrijswijk/Downloads/ariel-dev/src/ariel/ec/a004.py#99\u001b\\\u001b[2m99\u001b[0m\u001b]8;;\u001b\\\n",
       "\u001b[2;36m           \u001b[0m\u001b[35m/Users/jadenvanrijswijk/Downloads/ariel-dev/examples/__data__/\u001b[0m\u001b[95mdatabase.db\u001b[0m\u001b[33m!                   \u001b[0m \u001b[2m          \u001b[0m\n",
       "\u001b[2;36m           \u001b[0m\u001b[33mBehaviour is set to: \u001b[0m\u001b[32m'delete'\u001b[0m\u001b[33m --> ⚠️  Deleting file!                                          \u001b[0m \u001b[2m          \u001b[0m\n"
      ]
     },
     "metadata": {},
     "output_type": "display_data"
    },
    {
     "name": "stdout",
     "output_type": "stream",
     "text": [
      ". . . . Q . . . \n",
      ". . . . . . . Q \n",
      ". . . . . Q . . \n",
      ". . . Q . . . . \n",
      ". Q . . . . . . \n",
      ". . . . . . Q . \n",
      "Q . . . . . . . \n",
      ". . Q . . . . . \n"
     ]
    },
    {
     "data": {
      "text/html": [
       "<pre style=\"white-space:pre;overflow-x:auto;line-height:normal;font-family:Menlo,'DejaVu Sans Mono',consolas,'Courier New',monospace\"><span style=\"color: #7fbfbf; text-decoration-color: #7fbfbf\">           </span><span style=\"color: #808000; text-decoration-color: #808000\">Database file exists at                                                                      </span> <a href=\"file:///Users/jadenvanrijswijk/Downloads/ariel-dev/src/ariel/ec/a004.py\" target=\"_blank\"><span style=\"color: #7f7f7f; text-decoration-color: #7f7f7f\">a004.py</span></a><span style=\"color: #7f7f7f; text-decoration-color: #7f7f7f\">:</span><a href=\"file:///Users/jadenvanrijswijk/Downloads/ariel-dev/src/ariel/ec/a004.py#99\" target=\"_blank\"><span style=\"color: #7f7f7f; text-decoration-color: #7f7f7f\">99</span></a>\n",
       "<span style=\"color: #7fbfbf; text-decoration-color: #7fbfbf\">           </span><span style=\"color: #800080; text-decoration-color: #800080\">/Users/jadenvanrijswijk/Downloads/ariel-dev/examples/__data__/</span><span style=\"color: #ff00ff; text-decoration-color: #ff00ff\">database.db</span><span style=\"color: #808000; text-decoration-color: #808000\">!                   </span> <span style=\"color: #7f7f7f; text-decoration-color: #7f7f7f\">          </span>\n",
       "<span style=\"color: #7fbfbf; text-decoration-color: #7fbfbf\">           </span><span style=\"color: #808000; text-decoration-color: #808000\">Behaviour is set to: </span><span style=\"color: #008000; text-decoration-color: #008000\">'delete'</span><span style=\"color: #808000; text-decoration-color: #808000\"> --&gt; ⚠️  Deleting file!                                          </span> <span style=\"color: #7f7f7f; text-decoration-color: #7f7f7f\">          </span>\n",
       "</pre>\n"
      ],
      "text/plain": [
       "\u001b[2;36m          \u001b[0m\u001b[2;36m \u001b[0m\u001b[33mDatabase file exists at                                                                      \u001b[0m \u001b]8;id=259071;file:///Users/jadenvanrijswijk/Downloads/ariel-dev/src/ariel/ec/a004.py\u001b\\\u001b[2ma004.py\u001b[0m\u001b]8;;\u001b\\\u001b[2m:\u001b[0m\u001b]8;id=215795;file:///Users/jadenvanrijswijk/Downloads/ariel-dev/src/ariel/ec/a004.py#99\u001b\\\u001b[2m99\u001b[0m\u001b]8;;\u001b\\\n",
       "\u001b[2;36m           \u001b[0m\u001b[35m/Users/jadenvanrijswijk/Downloads/ariel-dev/examples/__data__/\u001b[0m\u001b[95mdatabase.db\u001b[0m\u001b[33m!                   \u001b[0m \u001b[2m          \u001b[0m\n",
       "\u001b[2;36m           \u001b[0m\u001b[33mBehaviour is set to: \u001b[0m\u001b[32m'delete'\u001b[0m\u001b[33m --> ⚠️  Deleting file!                                          \u001b[0m \u001b[2m          \u001b[0m\n"
      ]
     },
     "metadata": {},
     "output_type": "display_data"
    },
    {
     "data": {
      "text/html": [
       "<pre style=\"white-space:pre;overflow-x:auto;line-height:normal;font-family:Menlo,'DejaVu Sans Mono',consolas,'Courier New',monospace\"><span style=\"color: #7fbfbf; text-decoration-color: #7fbfbf\">           </span><span style=\"color: #808000; text-decoration-color: #808000\">Database file exists at                                                                      </span> <a href=\"file:///Users/jadenvanrijswijk/Downloads/ariel-dev/src/ariel/ec/a004.py\" target=\"_blank\"><span style=\"color: #7f7f7f; text-decoration-color: #7f7f7f\">a004.py</span></a><span style=\"color: #7f7f7f; text-decoration-color: #7f7f7f\">:</span><a href=\"file:///Users/jadenvanrijswijk/Downloads/ariel-dev/src/ariel/ec/a004.py#99\" target=\"_blank\"><span style=\"color: #7f7f7f; text-decoration-color: #7f7f7f\">99</span></a>\n",
       "<span style=\"color: #7fbfbf; text-decoration-color: #7fbfbf\">           </span><span style=\"color: #800080; text-decoration-color: #800080\">/Users/jadenvanrijswijk/Downloads/ariel-dev/examples/__data__/</span><span style=\"color: #ff00ff; text-decoration-color: #ff00ff\">database.db</span><span style=\"color: #808000; text-decoration-color: #808000\">!                   </span> <span style=\"color: #7f7f7f; text-decoration-color: #7f7f7f\">          </span>\n",
       "<span style=\"color: #7fbfbf; text-decoration-color: #7fbfbf\">           </span><span style=\"color: #808000; text-decoration-color: #808000\">Behaviour is set to: </span><span style=\"color: #008000; text-decoration-color: #008000\">'delete'</span><span style=\"color: #808000; text-decoration-color: #808000\"> --&gt; ⚠️  Deleting file!                                          </span> <span style=\"color: #7f7f7f; text-decoration-color: #7f7f7f\">          </span>\n",
       "</pre>\n"
      ],
      "text/plain": [
       "\u001b[2;36m          \u001b[0m\u001b[2;36m \u001b[0m\u001b[33mDatabase file exists at                                                                      \u001b[0m \u001b]8;id=387096;file:///Users/jadenvanrijswijk/Downloads/ariel-dev/src/ariel/ec/a004.py\u001b\\\u001b[2ma004.py\u001b[0m\u001b]8;;\u001b\\\u001b[2m:\u001b[0m\u001b]8;id=102049;file:///Users/jadenvanrijswijk/Downloads/ariel-dev/src/ariel/ec/a004.py#99\u001b\\\u001b[2m99\u001b[0m\u001b]8;;\u001b\\\n",
       "\u001b[2;36m           \u001b[0m\u001b[35m/Users/jadenvanrijswijk/Downloads/ariel-dev/examples/__data__/\u001b[0m\u001b[95mdatabase.db\u001b[0m\u001b[33m!                   \u001b[0m \u001b[2m          \u001b[0m\n",
       "\u001b[2;36m           \u001b[0m\u001b[33mBehaviour is set to: \u001b[0m\u001b[32m'delete'\u001b[0m\u001b[33m --> ⚠️  Deleting file!                                          \u001b[0m \u001b[2m          \u001b[0m\n"
      ]
     },
     "metadata": {},
     "output_type": "display_data"
    },
    {
     "name": "stdout",
     "output_type": "stream",
     "text": [
      ". . . . . . Q . . . . . . . . . . . . . . . . . . . . . . . . . \n",
      ". Q . . . . . . . . . . . . . . . . . . . . . . . . . . . . . . \n",
      ". . . . . . . . . . . . . . . . . . . . . . . . . . . . . . Q . \n",
      ". . . . . . . . . . . Q . . . . . . . . . . . . . . . . . . . . \n",
      ". . . . . . . . . . . . . . . Q . . . . . . . . . . . . . . . . \n",
      ". . . . . . . . . . . . . Q . . . . . . . . . . . . . . . . . . \n",
      ". . . . . . . . . . . . . . . . . . . . . . Q . . . . . . . . . \n",
      ". . . . . . . . . . . . . . . . . . . . . . . . Q . . . . . . . \n",
      ". . . . . . . Q . . . . . . . . . . . . . . . . . . . . . . . . \n",
      ". . . . . . . . . . Q . . . . . . . . . . . . . . . . . . . . . \n",
      ". . . . . . . . . . . . . . . . . . . . . . . . . Q . . . . . . \n",
      ". . . . . . . . . . . . . . . . . . . . . . . Q . . . . . . . . \n",
      ". . . . . Q . . . . . . . . . . . . . . . . . . . . . . . . . . \n",
      ". . . . . . . . . . . . . . . . . . . . . . . . . . . Q . . . . \n",
      "Q . . . . . . . . . . . . . . . . . . . . . . . . . . . . . . . \n",
      ". . . . . . . . . . . . . . . . . . . . . . . . . . Q . . . . . \n",
      ". . . . . . . . . Q . . . . . . . . . . . . . . . . . . . . . . \n",
      ". . . . . . . . . . . . . . . . . . . Q . . . . . . . . . . . . \n",
      ". . . . . . . . . . . . Q . . . . . . . . . . . . . . . . . . . \n",
      ". . . . . . . . . . . . . . . . . . . . . . . . . . . . Q . . . \n",
      ". . Q . . . . . . . . . . . . . . . . . . . . . . . . . . . . . \n",
      ". . . . . . . . Q . . . . . . . . . . . . . . . . . . . . . . . \n",
      ". . . . Q . . . . . . . . . . . . . . . . . . . . . . . . . . . \n",
      ". . . . . . . . . . . . . . . . . . . . Q . . . . . . . . . . . \n",
      ". . . . . . . . . . . . . . . . . . . . . . . . . . . . . . . Q \n",
      ". . . . . . . . . . . . . . . . . . . . . . . . . . . . . Q . . \n",
      ". . . . . . . . . . . . . . . . . . Q . . . . . . . . . . . . . \n",
      ". . . . . . . . . . . . . . Q . . . . . . . . . . . . . . . . . \n",
      ". . . Q . . . . . . . . . . . . . . . . . . . . . . . . . . . . \n",
      ". . . . . . . . . . . . . . . . . Q . . . . . . . . . . . . . . \n",
      ". . . . . . . . . . . . . . . . Q . . . . . . . . . . . . . . . \n",
      ". . . . . . . . . . . . . . . . . . . . . Q . . . . . . . . . . \n",
      "Best fitness found for N = 8:  1.0\n",
      "Best fitness found for N = 16:  6.0\n",
      "Best fitness found for N = 32:  11.0\n"
     ]
    }
   ],
   "source": [
    "config.is_maximisation = False  # We want to minimize the number of attacking queens\n",
    "config.target_population_size = 10\n",
    "config.num_of_generations = 10\n",
    "config.db_handling = \"delete\"\n",
    "runs = 10\n",
    "\n",
    "#check for the best fitness found for each problem\n",
    "avgs_experiment_1, stds_experiment_1, all_runs_experiment_1 = run_experiment_n_queens(runs)\n",
    "\n",
    "f_8, f_16, f_32 = all_runs_experiment_1\n",
    "\n",
    "print(\"Best fitness found for N = 8: \", min(f_8))\n",
    "print(\"Best fitness found for N = 16: \", min(f_16))\n",
    "print(\"Best fitness found for N = 32: \", min(f_32))"
   ]
  },
  {
   "cell_type": "code",
   "execution_count": 10,
   "id": "09a23c50",
   "metadata": {},
   "outputs": [
    {
     "data": {
      "text/html": [
       "<pre style=\"white-space:pre;overflow-x:auto;line-height:normal;font-family:Menlo,'DejaVu Sans Mono',consolas,'Courier New',monospace\"><span style=\"color: #800000; text-decoration-color: #800000\">╭─────────────────────────────── </span><span style=\"color: #800000; text-decoration-color: #800000; font-weight: bold\">Traceback </span><span style=\"color: #bf7f7f; text-decoration-color: #bf7f7f; font-weight: bold\">(most recent call last)</span><span style=\"color: #800000; text-decoration-color: #800000\"> ────────────────────────────────╮</span>\n",
       "<span style=\"color: #800000; text-decoration-color: #800000\">│</span> in &lt;module&gt;:3                                                                                    <span style=\"color: #800000; text-decoration-color: #800000\">│</span>\n",
       "<span style=\"color: #800000; text-decoration-color: #800000\">│</span>                                                                                                  <span style=\"color: #800000; text-decoration-color: #800000\">│</span>\n",
       "<span style=\"color: #800000; text-decoration-color: #800000\">│</span>   <span style=\"color: #7f7f7f; text-decoration-color: #7f7f7f\"> 1 </span>labels = [<span style=\"color: #808000; text-decoration-color: #808000\">\"N = 8\"</span>, <span style=\"color: #808000; text-decoration-color: #808000\">\"N = 16\"</span>, <span style=\"color: #808000; text-decoration-color: #808000\">\"N = 32\"</span>]                                                      <span style=\"color: #800000; text-decoration-color: #800000\">│</span>\n",
       "<span style=\"color: #800000; text-decoration-color: #800000\">│</span>   <span style=\"color: #7f7f7f; text-decoration-color: #7f7f7f\"> 2 </span>                                                                                            <span style=\"color: #800000; text-decoration-color: #800000\">│</span>\n",
       "<span style=\"color: #800000; text-decoration-color: #800000\">│</span> <span style=\"color: #800000; text-decoration-color: #800000\">❱ </span> 3 <span style=\"font-weight: bold; text-decoration: underline\">generate_subplot_function(</span>                                                                  <span style=\"color: #800000; text-decoration-color: #800000\">│</span>\n",
       "<span style=\"color: #800000; text-decoration-color: #800000\">│</span>   <span style=\"color: #7f7f7f; text-decoration-color: #7f7f7f\"> 4 </span><span style=\"color: #7f7f7f; text-decoration-color: #7f7f7f\">│   </span><span style=\"font-weight: bold; text-decoration: underline\">avgs_experiment_1,</span>                                                                      <span style=\"color: #800000; text-decoration-color: #800000\">│</span>\n",
       "<span style=\"color: #800000; text-decoration-color: #800000\">│</span>   <span style=\"color: #7f7f7f; text-decoration-color: #7f7f7f\"> 5 </span><span style=\"color: #7f7f7f; text-decoration-color: #7f7f7f\">│   </span><span style=\"font-weight: bold; text-decoration: underline\">stds_experiment_1,</span>                                                                      <span style=\"color: #800000; text-decoration-color: #800000\">│</span>\n",
       "<span style=\"color: #800000; text-decoration-color: #800000\">│</span>   <span style=\"color: #7f7f7f; text-decoration-color: #7f7f7f\"> 6 </span><span style=\"color: #7f7f7f; text-decoration-color: #7f7f7f\">│   </span><span style=\"font-weight: bold; text-decoration: underline\">labels,</span>                                                                                 <span style=\"color: #800000; text-decoration-color: #800000\">│</span>\n",
       "<span style=\"color: #800000; text-decoration-color: #800000\">│</span>                                                                                                  <span style=\"color: #800000; text-decoration-color: #800000\">│</span>\n",
       "<span style=\"color: #800000; text-decoration-color: #800000\">│</span> in generate_subplot_function:38                                                                  <span style=\"color: #800000; text-decoration-color: #800000\">│</span>\n",
       "<span style=\"color: #800000; text-decoration-color: #800000\">│</span>                                                                                                  <span style=\"color: #800000; text-decoration-color: #800000\">│</span>\n",
       "<span style=\"color: #800000; text-decoration-color: #800000\">│</span>   <span style=\"color: #7f7f7f; text-decoration-color: #7f7f7f\">35 </span><span style=\"color: #7f7f7f; text-decoration-color: #7f7f7f\">│   │   </span>                                                                                    <span style=\"color: #800000; text-decoration-color: #800000\">│</span>\n",
       "<span style=\"color: #800000; text-decoration-color: #800000\">│</span>   <span style=\"color: #7f7f7f; text-decoration-color: #7f7f7f\">36 </span><span style=\"color: #7f7f7f; text-decoration-color: #7f7f7f\">│   │   </span>axes[i].plot(avgs_experiment_1[i], label=<span style=\"color: #808000; text-decoration-color: #808000\">\"Experiment 1\"</span>, color=<span style=\"color: #808000; text-decoration-color: #808000\">\"blue\"</span>)              <span style=\"color: #800000; text-decoration-color: #800000\">│</span>\n",
       "<span style=\"color: #800000; text-decoration-color: #800000\">│</span>   <span style=\"color: #7f7f7f; text-decoration-color: #7f7f7f\">37 </span><span style=\"color: #7f7f7f; text-decoration-color: #7f7f7f\">│   │   </span>axes[i].fill_between(                                                               <span style=\"color: #800000; text-decoration-color: #800000\">│</span>\n",
       "<span style=\"color: #800000; text-decoration-color: #800000\">│</span> <span style=\"color: #800000; text-decoration-color: #800000\">❱ </span>38 <span style=\"color: #7f7f7f; text-decoration-color: #7f7f7f\">│   │   │   </span>np.arange(<span style=\"color: #00ffff; text-decoration-color: #00ffff; font-weight: bold; text-decoration: underline\">len</span><span style=\"font-weight: bold; text-decoration: underline\">(avgs_experiment_1[i])</span>),                                           <span style=\"color: #800000; text-decoration-color: #800000\">│</span>\n",
       "<span style=\"color: #800000; text-decoration-color: #800000\">│</span>   <span style=\"color: #7f7f7f; text-decoration-color: #7f7f7f\">39 </span><span style=\"color: #7f7f7f; text-decoration-color: #7f7f7f\">│   │   │   </span>avgs_experiment_1[i] - stds_experiment_1[i],                                    <span style=\"color: #800000; text-decoration-color: #800000\">│</span>\n",
       "<span style=\"color: #800000; text-decoration-color: #800000\">│</span>   <span style=\"color: #7f7f7f; text-decoration-color: #7f7f7f\">40 </span><span style=\"color: #7f7f7f; text-decoration-color: #7f7f7f\">│   │   │   </span>avgs_experiment_1[i] + stds_experiment_1[i],                                    <span style=\"color: #800000; text-decoration-color: #800000\">│</span>\n",
       "<span style=\"color: #800000; text-decoration-color: #800000\">│</span>   <span style=\"color: #7f7f7f; text-decoration-color: #7f7f7f\">41 </span><span style=\"color: #7f7f7f; text-decoration-color: #7f7f7f\">│   │   │   </span>alpha=<span style=\"color: #0000ff; text-decoration-color: #0000ff\">0.2</span>,                                                                      <span style=\"color: #800000; text-decoration-color: #800000\">│</span>\n",
       "<span style=\"color: #800000; text-decoration-color: #800000\">╰──────────────────────────────────────────────────────────────────────────────────────────────────╯</span>\n",
       "<span style=\"color: #ff0000; text-decoration-color: #ff0000; font-weight: bold\">TypeError: </span>object of type <span style=\"color: #008000; text-decoration-color: #008000\">'numpy.float64'</span> has no <span style=\"color: #800080; text-decoration-color: #800080; font-weight: bold\">len</span><span style=\"font-weight: bold\">()</span>\n",
       "</pre>\n"
      ],
      "text/plain": [
       "\u001b[31m╭─\u001b[0m\u001b[31m──────────────────────────────\u001b[0m\u001b[31m \u001b[0m\u001b[1;31mTraceback \u001b[0m\u001b[1;2;31m(most recent call last)\u001b[0m\u001b[31m \u001b[0m\u001b[31m───────────────────────────────\u001b[0m\u001b[31m─╮\u001b[0m\n",
       "\u001b[31m│\u001b[0m in <module>:3                                                                                    \u001b[31m│\u001b[0m\n",
       "\u001b[31m│\u001b[0m                                                                                                  \u001b[31m│\u001b[0m\n",
       "\u001b[31m│\u001b[0m   \u001b[2m 1 \u001b[0mlabels = [\u001b[33m\"\u001b[0m\u001b[33mN = 8\u001b[0m\u001b[33m\"\u001b[0m, \u001b[33m\"\u001b[0m\u001b[33mN = 16\u001b[0m\u001b[33m\"\u001b[0m, \u001b[33m\"\u001b[0m\u001b[33mN = 32\u001b[0m\u001b[33m\"\u001b[0m]                                                      \u001b[31m│\u001b[0m\n",
       "\u001b[31m│\u001b[0m   \u001b[2m 2 \u001b[0m                                                                                            \u001b[31m│\u001b[0m\n",
       "\u001b[31m│\u001b[0m \u001b[31m❱ \u001b[0m 3 \u001b[1;4mgenerate_subplot_function(\u001b[0m                                                                  \u001b[31m│\u001b[0m\n",
       "\u001b[31m│\u001b[0m   \u001b[2m 4 \u001b[0m\u001b[2m│   \u001b[0m\u001b[1;4mavgs_experiment_1,\u001b[0m                                                                      \u001b[31m│\u001b[0m\n",
       "\u001b[31m│\u001b[0m   \u001b[2m 5 \u001b[0m\u001b[2m│   \u001b[0m\u001b[1;4mstds_experiment_1,\u001b[0m                                                                      \u001b[31m│\u001b[0m\n",
       "\u001b[31m│\u001b[0m   \u001b[2m 6 \u001b[0m\u001b[2m│   \u001b[0m\u001b[1;4mlabels,\u001b[0m                                                                                 \u001b[31m│\u001b[0m\n",
       "\u001b[31m│\u001b[0m                                                                                                  \u001b[31m│\u001b[0m\n",
       "\u001b[31m│\u001b[0m in generate_subplot_function:38                                                                  \u001b[31m│\u001b[0m\n",
       "\u001b[31m│\u001b[0m                                                                                                  \u001b[31m│\u001b[0m\n",
       "\u001b[31m│\u001b[0m   \u001b[2m35 \u001b[0m\u001b[2m│   │   \u001b[0m                                                                                    \u001b[31m│\u001b[0m\n",
       "\u001b[31m│\u001b[0m   \u001b[2m36 \u001b[0m\u001b[2m│   │   \u001b[0maxes[i].plot(avgs_experiment_1[i], label=\u001b[33m\"\u001b[0m\u001b[33mExperiment 1\u001b[0m\u001b[33m\"\u001b[0m, color=\u001b[33m\"\u001b[0m\u001b[33mblue\u001b[0m\u001b[33m\"\u001b[0m)              \u001b[31m│\u001b[0m\n",
       "\u001b[31m│\u001b[0m   \u001b[2m37 \u001b[0m\u001b[2m│   │   \u001b[0maxes[i].fill_between(                                                               \u001b[31m│\u001b[0m\n",
       "\u001b[31m│\u001b[0m \u001b[31m❱ \u001b[0m38 \u001b[2m│   │   │   \u001b[0mnp.arange(\u001b[1;4;96mlen\u001b[0m\u001b[1;4m(avgs_experiment_1[i])\u001b[0m),                                           \u001b[31m│\u001b[0m\n",
       "\u001b[31m│\u001b[0m   \u001b[2m39 \u001b[0m\u001b[2m│   │   │   \u001b[0mavgs_experiment_1[i] - stds_experiment_1[i],                                    \u001b[31m│\u001b[0m\n",
       "\u001b[31m│\u001b[0m   \u001b[2m40 \u001b[0m\u001b[2m│   │   │   \u001b[0mavgs_experiment_1[i] + stds_experiment_1[i],                                    \u001b[31m│\u001b[0m\n",
       "\u001b[31m│\u001b[0m   \u001b[2m41 \u001b[0m\u001b[2m│   │   │   \u001b[0malpha=\u001b[94m0.2\u001b[0m,                                                                      \u001b[31m│\u001b[0m\n",
       "\u001b[31m╰──────────────────────────────────────────────────────────────────────────────────────────────────╯\u001b[0m\n",
       "\u001b[1;91mTypeError: \u001b[0mobject of type \u001b[32m'numpy.float64'\u001b[0m has no \u001b[1;35mlen\u001b[0m\u001b[1m(\u001b[0m\u001b[1m)\u001b[0m\n"
      ]
     },
     "metadata": {},
     "output_type": "display_data"
    },
    {
     "data": {
      "image/png": "[encoded data removed]",
      "text/plain": [
       "<Figure size 1800x600 with 3 Axes>"
      ]
     },
     "metadata": {},
     "output_type": "display_data"
    }
   ],
   "source": [
    "labels = [\"N = 8\", \"N = 16\", \"N = 32\"]\n",
    "\n",
    "generate_subplot_function(\n",
    "    avgs_experiment_1,\n",
    "    stds_experiment_1,\n",
    "    labels,\n",
    "    avgs_experiment_2=None,\n",
    "    stds_experiment_2=None,\n",
    "    n_columns=3,\n",
    "    n_queens=[8, 16, 32],\n",
    ")"
   ]
  }
 ],
 "metadata": {
  "kernelspec": {
   "display_name": "ariel",
   "language": "python",
   "name": "python3"
  },
  "language_info": {
   "codemirror_mode": {
    "name": "ipython",
    "version": 3
   },
   "file_extension": ".py",
   "mimetype": "text/x-python",
   "name": "python",
   "nbconvert_exporter": "python",
   "pygments_lexer": "ipython3",
   "version": "3.12.9"
  }
 },
 "nbformat": 4,
 "nbformat_minor": 5
}
