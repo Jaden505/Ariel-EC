{
 "cells": [
  {
   "cell_type": "markdown",
   "id": "045bddc6",
   "metadata": {},
   "source": [
    "## N-queens with Ariel\n",
    "This file demonstrates how to tackle the n-queens problem using Ariel. Solving for a board with n=8, n=16 and n=32 where n is the the board length and width and also the number of queens on the board. The goal is to achieve an average of zero attacking queens on all tested n values. This will demonstrate the power and usability of the Ariel library."
   ]
  },
  {
   "cell_type": "code",
   "execution_count": 1,
   "id": "f401c83c",
   "metadata": {},
   "outputs": [],
   "source": [
    "# Standard library\n",
    "import random\n",
    "from collections.abc import Callable\n",
    "from dataclasses import dataclass\n",
    "from pathlib import Path\n",
    "from typing import Literal, cast\n",
    "\n",
    "# Pretty little errors and progress bars\n",
    "from rich.console import Console\n",
    "from rich.progress import track\n",
    "from rich.traceback import install\n",
    "\n",
    "# Third-party libraries\n",
    "import numpy as np\n",
    "from pydantic_settings import BaseSettings\n",
    "from sqlalchemy import create_engine\n",
    "from sqlmodel import Session, SQLModel, col, select \n",
    "\n",
    "# Local libraries\n",
    "from ariel.ec.a000 import IntegerMutator, IntegersGenerator\n",
    "from ariel.ec.a001 import Individual\n",
    "from ariel.ec.a005 import Crossover\n",
    "from ariel.ec.a004 import EASettings, EAStep, EA\n",
    "\n",
    "# Library to show fitness landscape\n",
    "import matplotlib.pyplot as plt"
   ]
  },
  {
   "cell_type": "code",
   "execution_count": 28,
   "id": "37b4c928",
   "metadata": {},
   "outputs": [],
   "source": [
    "type Population = list[Individual]\n",
    "config = EASettings()\n",
    "config.is_maximisation = False  # We want to minimize the number of attacking queens\n",
    "config.target_population_size = 100\n",
    "config.num_of_generations = 100"
   ]
  },
  {
   "cell_type": "code",
   "execution_count": 10,
   "id": "a906f220",
   "metadata": {},
   "outputs": [],
   "source": [
    "def visualize_solution(solution):\n",
    "    \"\"\"Visualize the placement of queens on the chessboard.\"\"\"\n",
    "    n = len(solution)\n",
    "    for i in range(n):\n",
    "        e = '. '\n",
    "        row_str = e * (solution[i]) + 'Q ' + e * ((n-1) - solution[i])\n",
    "        print(row_str)\n",
    "        \n",
    "def count_attacking_queens(solution: list[int]) -> int:\n",
    "    \"\"\"Counts the number of attacking queens on diagonals.\"\"\"\n",
    "    fitness = 0\n",
    "    main_diags, anti_diags = [], []\n",
    "    \n",
    "    for row, col in enumerate(solution):\n",
    "       if row - col in main_diags:\n",
    "          fitness += main_diags.count(row - col)\n",
    "       if row + col in anti_diags:\n",
    "          fitness += anti_diags.count(row + col)\n",
    "      \n",
    "       main_diags.append(row - col)\n",
    "       anti_diags.append(row + col)       \n",
    "\n",
    "    return fitness\n"
   ]
  },
  {
   "cell_type": "code",
   "execution_count": 47,
   "id": "ebdea970",
   "metadata": {},
   "outputs": [],
   "source": [
    "def parent_selection(population: Population, k=2) -> Population:\n",
    "    \"\"\"Tournament selection of size k\"\"\"\n",
    "    random.shuffle(population)\n",
    "    for idx in range(1, len(population) - 1, k):\n",
    "        ind_i = population[idx]\n",
    "        ind_j = population[idx - 1]\n",
    "\n",
    "        # Compare fitness values\n",
    "        if ind_i.fitness < ind_j.fitness and not config.is_maximisation:\n",
    "            ind_i.tags = {\"ps\": True}\n",
    "            ind_j.tags = {\"ps\": False}\n",
    "        else:\n",
    "            ind_i.tags = {\"ps\": False}\n",
    "            ind_j.tags = {\"ps\": True}\n",
    "    return population\n",
    "\n",
    "\n",
    "def crossover(population: Population) -> Population:\n",
    "    \"\"\"One-point crossover\"\"\"\n",
    "    parents = [ind for ind in population if ind.tags.get(\"ps\", False)]\n",
    "    for idx in range(1, len(parents), 2):\n",
    "        parent_i = parents[idx - 1]\n",
    "        parent_j = parents[idx]\n",
    "        genotype_i, genotype_j = Crossover.order_cross(\n",
    "            cast(\"list[int]\", parent_i.genotype),\n",
    "            cast(\"list[int]\", parent_j.genotype),\n",
    "        )\n",
    "\n",
    "        # First child\n",
    "        child_i = Individual()\n",
    "        child_i.genotype = genotype_i\n",
    "        child_i.tags = {\"mut\": True}\n",
    "        child_i.requires_eval = True\n",
    "\n",
    "        # Second child\n",
    "        child_j = Individual()\n",
    "        child_j.genotype = genotype_j\n",
    "        child_j.tags = {\"mut\": True}\n",
    "        child_j.requires_eval = True\n",
    "\n",
    "        population.extend([child_i, child_j])\n",
    "    return population\n",
    "\n",
    "\n",
    "def mutation(population: Population) -> Population:\n",
    "    for ind in population:\n",
    "        if ind.tags.get(\"mut\", False):\n",
    "            genes = cast(\"list[int]\", ind.genotype)\n",
    "            mutated = IntegerMutator.integer_swap(\n",
    "                individual=genes,\n",
    "                mutation_probability=0.5,\n",
    "                swaps=1,\n",
    "            )\n",
    "            ind.genotype = mutated\n",
    "    return population\n",
    "\n",
    "def evaluate(population: Population) -> Population:\n",
    "    for ind in population:\n",
    "        ind.fitness = count_attacking_queens(ind.genotype) \n",
    "        ind.requires_eval = False\n",
    "            \n",
    "    return population\n",
    "\n",
    "def survivor_selection(population: Population) -> Population:\n",
    "    \"\"\"Tournament selection of size 2\"\"\"\n",
    "    random.shuffle(population)\n",
    "    current_pop_size = len(population)\n",
    "    for idx in range(1, len(population)):\n",
    "        ind_i = population[idx - 1]\n",
    "        ind_j = population[idx]\n",
    "\n",
    "        # Kill worse individual\n",
    "        if ind_i.fitness < ind_j.fitness and not config.is_maximisation:\n",
    "            ind_j.alive = False\n",
    "        else:\n",
    "            ind_i.alive = False\n",
    "\n",
    "        # Termination condition\n",
    "        current_pop_size -= 1\n",
    "        if current_pop_size <= config.target_population_size:\n",
    "            break\n",
    "    return population\n",
    "\n",
    "\n",
    "def create_individual(n) -> Individual:\n",
    "    ind = Individual()\n",
    "    ind.genotype = IntegersGenerator.integers(low=0, high=n-1, size=n, replace=False)\n",
    "    ind.tags = {\"ps\": False, \"mut\": False} # Initially not selected for anything\n",
    "    return ind\n",
    "\n",
    "\n",
    "def learning(population: Population) -> Population:\n",
    "    return population"
   ]
  },
  {
   "cell_type": "code",
   "execution_count": null,
   "id": "0e32f164",
   "metadata": {},
   "outputs": [],
   "source": [
    "\n",
    "def solve_problem(n) -> None:\n",
    "    # Create initial population\n",
    "    population_list = [create_individual(n) for _ in range(config.target_population_size)]\n",
    "    population_list = evaluate(population_list)\n",
    "\n",
    "    # Create EA steps\n",
    "    ops = [\n",
    "        EAStep(\"evaluation\", evaluate),\n",
    "        EAStep(\"parent_selection\", parent_selection),\n",
    "        EAStep(\"crossover\", crossover),\n",
    "        EAStep(\"mutation\", mutation),\n",
    "        EAStep(\"evaluation\", evaluate),\n",
    "        EAStep(\"survivor_selection\", survivor_selection),\n",
    "        EAStep(\"learning\", learning),\n",
    "    ]\n",
    "\n",
    "    # Initialize EA\n",
    "    ea = EA(\n",
    "        population_list,\n",
    "        operations=ops,\n",
    "        num_of_generations=config.num_of_generations,\n",
    "    )\n",
    "\n",
    "    ea.run()\n",
    "\n",
    "    return ea.get_solution()"
   ]
  },
  {
   "cell_type": "code",
   "execution_count": 48,
   "id": "099f9b77",
   "metadata": {},
   "outputs": [
    {
     "data": {
      "text/html": [
       "<pre style=\"white-space:pre;overflow-x:auto;line-height:normal;font-family:Menlo,'DejaVu Sans Mono',consolas,'Courier New',monospace\"><span style=\"color: #7fbfbf; text-decoration-color: #7fbfbf\">[10:16:37] </span><span style=\"color: #808000; text-decoration-color: #808000\">Database file exists at                                                                      </span> <a href=\"file:///Users/jadenvanrijswijk/Downloads/ariel-dev/src/ariel/ec/a004.py\" target=\"_blank\"><span style=\"color: #7f7f7f; text-decoration-color: #7f7f7f\">a004.py</span></a><span style=\"color: #7f7f7f; text-decoration-color: #7f7f7f\">:</span><a href=\"file:///Users/jadenvanrijswijk/Downloads/ariel-dev/src/ariel/ec/a004.py#98\" target=\"_blank\"><span style=\"color: #7f7f7f; text-decoration-color: #7f7f7f\">98</span></a>\n",
       "<span style=\"color: #7fbfbf; text-decoration-color: #7fbfbf\">           </span><span style=\"color: #800080; text-decoration-color: #800080\">/Users/jadenvanrijswijk/Downloads/ariel-dev/examples/__data__/</span><span style=\"color: #ff00ff; text-decoration-color: #ff00ff\">database.db</span><span style=\"color: #808000; text-decoration-color: #808000\">!                   </span> <span style=\"color: #7f7f7f; text-decoration-color: #7f7f7f\">          </span>\n",
       "<span style=\"color: #7fbfbf; text-decoration-color: #7fbfbf\">           </span><span style=\"color: #808000; text-decoration-color: #808000\">Behaviour is set to: </span><span style=\"color: #008000; text-decoration-color: #008000\">'delete'</span><span style=\"color: #808000; text-decoration-color: #808000\"> --&gt; ⚠️  Deleting file!                                          </span> <span style=\"color: #7f7f7f; text-decoration-color: #7f7f7f\">          </span>\n",
       "</pre>\n"
      ],
      "text/plain": [
       "\u001b[2;36m[10:16:37]\u001b[0m\u001b[2;36m \u001b[0m\u001b[33mDatabase file exists at                                                                      \u001b[0m \u001b]8;id=740908;file:///Users/jadenvanrijswijk/Downloads/ariel-dev/src/ariel/ec/a004.py\u001b\\\u001b[2ma004.py\u001b[0m\u001b]8;;\u001b\\\u001b[2m:\u001b[0m\u001b]8;id=518710;file:///Users/jadenvanrijswijk/Downloads/ariel-dev/src/ariel/ec/a004.py#98\u001b\\\u001b[2m98\u001b[0m\u001b]8;;\u001b\\\n",
       "\u001b[2;36m           \u001b[0m\u001b[35m/Users/jadenvanrijswijk/Downloads/ariel-dev/examples/__data__/\u001b[0m\u001b[95mdatabase.db\u001b[0m\u001b[33m!                   \u001b[0m \u001b[2m          \u001b[0m\n",
       "\u001b[2;36m           \u001b[0m\u001b[33mBehaviour is set to: \u001b[0m\u001b[32m'delete'\u001b[0m\u001b[33m --> ⚠️  Deleting file!                                          \u001b[0m \u001b[2m          \u001b[0m\n"
      ]
     },
     "metadata": {},
     "output_type": "display_data"
    },
    {
     "data": {
      "text/html": [
       "<pre style=\"white-space:pre;overflow-x:auto;line-height:normal;font-family:Menlo,'DejaVu Sans Mono',consolas,'Courier New',monospace\"><span style=\"color: #00ff00; text-decoration-color: #00ff00\">───────────────────────────────────────────────── </span><span style=\"color: #000080; text-decoration-color: #000080\">EA Initialised</span><span style=\"color: #00ff00; text-decoration-color: #00ff00\"> ──────────────────────────────────────────────────</span>\n",
       "</pre>\n"
      ],
      "text/plain": [
       "\u001b[92m───────────────────────────────────────────────── \u001b[0m\u001b[34mEA Initialised\u001b[0m\u001b[92m ──────────────────────────────────────────────────\u001b[0m\n"
      ]
     },
     "metadata": {},
     "output_type": "display_data"
    },
    {
     "data": {
      "application/vnd.jupyter.widget-view+json": {
       "model_id": "29d72372ae0d4063b9d434b88fcde4a1",
       "version_major": 2,
       "version_minor": 0
      },
      "text/plain": [
       "Output()"
      ]
     },
     "metadata": {},
     "output_type": "display_data"
    },
    {
     "data": {
      "text/html": [
       "<pre style=\"white-space:pre;overflow-x:auto;line-height:normal;font-family:Menlo,'DejaVu Sans Mono',consolas,'Courier New',monospace\"></pre>\n"
      ],
      "text/plain": []
     },
     "metadata": {},
     "output_type": "display_data"
    },
    {
     "data": {
      "text/html": [
       "<pre style=\"white-space:pre;overflow-x:auto;line-height:normal;font-family:Menlo,'DejaVu Sans Mono',consolas,'Courier New',monospace\"><span style=\"color: #00ff00; text-decoration-color: #00ff00\">─────────────────────────────────────────────── </span><span style=\"color: #008000; text-decoration-color: #008000\">EA Finished Running</span><span style=\"color: #00ff00; text-decoration-color: #00ff00\"> ───────────────────────────────────────────────</span>\n",
       "</pre>\n"
      ],
      "text/plain": [
       "\u001b[92m─────────────────────────────────────────────── \u001b[0m\u001b[32mEA Finished Running\u001b[0m\u001b[92m ───────────────────────────────────────────────\u001b[0m\n"
      ]
     },
     "metadata": {},
     "output_type": "display_data"
    },
    {
     "name": "stdout",
     "output_type": "stream",
     "text": [
      "Best solution found:\n",
      "[6, 0, 3, 5, 7, 2, 4, 1]\n",
      ". . . . . . Q . \n",
      "Q . . . . . . . \n",
      ". . . Q . . . . \n",
      ". . . . . Q . . \n",
      ". . . . . . . Q \n",
      ". . Q . . . . . \n",
      ". . . . Q . . . \n",
      ". Q . . . . . . \n",
      "None\n",
      "With 1 attacking queens.\n",
      "1\n"
     ]
    }
   ],
   "source": [
    "\n",
    "solution = solve_problem(8)\n",
    "print(\"Best solution found:\")\n",
    "print(solution.genotype)\n",
    "print(visualize_solution(solution.genotype))\n",
    "print(f\"With { int(solution.fitness) } attacking queens.\")\n",
    "print(count_attacking_queens(cast(\"list[int]\", solution.genotype)))"
   ]
  }
 ],
 "metadata": {
  "kernelspec": {
   "display_name": "ariel",
   "language": "python",
   "name": "python3"
  },
  "language_info": {
   "codemirror_mode": {
    "name": "ipython",
    "version": 3
   },
   "file_extension": ".py",
   "mimetype": "text/x-python",
   "name": "python",
   "nbconvert_exporter": "python",
   "pygments_lexer": "ipython3",
   "version": "3.12.9"
  }
 },
 "nbformat": 4,
 "nbformat_minor": 5
}
